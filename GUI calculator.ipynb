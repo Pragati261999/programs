{
 "cells": [
  {
   "cell_type": "code",
   "execution_count": null,
   "metadata": {},
   "outputs": [],
   "source": [
    "from tkinter import *\n",
    "\n",
    "class MyCalculator:\n",
    "    def __init__(self,win):\n",
    "        self.lbl1=Label(win,text=\"Enter 1st no.\")\n",
    "        self.lbl2=Label(win,text=\"Enter 2nd no.\")\n",
    "        self.lbl3=Label(win,text=\"Result\")\n",
    "        \n",
    "        self.t1=Entry(win,bd=4)\n",
    "        self.t2=Entry(win,bd=4)\n",
    "        self.t3=Entry(win,bd=4,bg=\"yellow\",fg=\"red\",font=(\"arial\",15))\n",
    "        \n",
    "        self.btnADD=Button(win,text=\"+\",bg='cyan',command=self.add)\n",
    "        self.btnMultiply=Button(win,text=\"*\",bg='cyan',command=self.product)\n",
    "        \n",
    "        self.lbl1.place(x=100,y=50)\n",
    "        self.t1.place(x=200,y=50)\n",
    "        \n",
    "        self.lbl2.place(x=100,y=100)\n",
    "        self.t2.place(x=200,y=100)\n",
    "        \n",
    "        self.btnADD.place(x=200,y=150)\n",
    "        self.btnMultiply.place(x=300,y=150)\n",
    "        \n",
    "        self.lbl3.place(x=100,y=200)\n",
    "        self.t3.place(x=200,y=200)\n",
    "        \n",
    "    def add(self):\n",
    "        self.t3.delete(0,'end')\n",
    "        num1 = int(self.t1.get())\n",
    "        num2 = int(self.t2.get())\n",
    "        result = num1+num2\n",
    "        self.t3.insert(END,str(result))\n",
    "        \n",
    "    def product(self):\n",
    "        self.t3.delete(0,'end')\n",
    "        num1 = int(self.t1.get())\n",
    "        num2 = int(self.t2.get())\n",
    "        result = num1*num2\n",
    "        self.t3.insert(END,str(result))\n",
    "\n",
    "window = Tk()\n",
    "MyCalculator(window)\n",
    "window.title(\"My Python GUI Calculator...!\")\n",
    "window.geometry(\"500x300+300+200\")\n",
    "window.mainloop()"
   ]
  },
  {
   "cell_type": "code",
   "execution_count": null,
   "metadata": {},
   "outputs": [],
   "source": []
  }
 ],
 "metadata": {
  "kernelspec": {
   "display_name": "Python 3",
   "language": "python",
   "name": "python3"
  },
  "language_info": {
   "codemirror_mode": {
    "name": "ipython",
    "version": 3
   },
   "file_extension": ".py",
   "mimetype": "text/x-python",
   "name": "python",
   "nbconvert_exporter": "python",
   "pygments_lexer": "ipython3",
   "version": "3.7.9"
  }
 },
 "nbformat": 4,
 "nbformat_minor": 4
}
